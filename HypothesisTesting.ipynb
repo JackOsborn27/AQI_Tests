{
 "cells": [
  {
   "cell_type": "code",
   "execution_count": 1,
   "id": "1a7c5d9a",
   "metadata": {
    "id": "0b3d0e1c-23b9-4491-82a5-ac1e4bd36f30"
   },
   "outputs": [],
   "source": [
    "# Import relevant packages\n",
    "\n",
    "import pandas as pd\n",
    "import numpy as np\n",
    "from scipy import stats"
   ]
  },
  {
   "cell_type": "code",
   "execution_count": 2,
   "id": "8438d73e",
   "metadata": {
    "colab": {
     "base_uri": "https://localhost:8080/",
     "height": 458
    },
    "id": "1ce82ed7-cf32-4028-ac77-a377e7638458",
    "outputId": "eafc0ef5-c72f-425d-b61c-58d22c7a6586",
    "tags": []
   },
   "outputs": [],
   "source": [
    "# Use read_csv() to import data\n",
    "\n",
    "aqi = pd.read_csv('c4_epa_air_quality.csv')"
   ]
  },
  {
   "cell_type": "code",
   "execution_count": 3,
   "id": "8aec1705",
   "metadata": {
    "id": "0444122d-6fba-4051-8b09-b15392aacebf",
    "scrolled": false,
    "tags": []
   },
   "outputs": [
    {
     "name": "stdout",
     "output_type": "stream",
     "text": [
      "Use head() to show a sample of data\n",
      "   Unnamed: 0  date_local    state_name   county_name      city_name  \\\n",
      "0           0  2018-01-01       Arizona      Maricopa        Buckeye   \n",
      "1           1  2018-01-01          Ohio       Belmont      Shadyside   \n",
      "2           2  2018-01-01       Wyoming         Teton  Not in a city   \n",
      "3           3  2018-01-01  Pennsylvania  Philadelphia   Philadelphia   \n",
      "4           4  2018-01-01          Iowa          Polk     Des Moines   \n",
      "\n",
      "                                     local_site_name   parameter_name  \\\n",
      "0                                            BUCKEYE  Carbon monoxide   \n",
      "1                                          Shadyside  Carbon monoxide   \n",
      "2  Yellowstone National Park - Old Faithful Snow ...  Carbon monoxide   \n",
      "3                             North East Waste (NEW)  Carbon monoxide   \n",
      "4                                          CARPENTER  Carbon monoxide   \n",
      "\n",
      "    units_of_measure  arithmetic_mean  aqi  \n",
      "0  Parts per million         0.473684    7  \n",
      "1  Parts per million         0.263158    5  \n",
      "2  Parts per million         0.111111    2  \n",
      "3  Parts per million         0.300000    3  \n",
      "4  Parts per million         0.215789    3  \n",
      "Use describe() to summarize AQI\n",
      "        Unnamed: 0  date_local  state_name  county_name      city_name  \\\n",
      "count   260.000000         260         260          260            260   \n",
      "unique         NaN           1          52          149            190   \n",
      "top            NaN  2018-01-01  California  Los Angeles  Not in a city   \n",
      "freq           NaN         260          66           14             21   \n",
      "mean    129.500000         NaN         NaN          NaN            NaN   \n",
      "std      75.199734         NaN         NaN          NaN            NaN   \n",
      "min       0.000000         NaN         NaN          NaN            NaN   \n",
      "25%      64.750000         NaN         NaN          NaN            NaN   \n",
      "50%     129.500000         NaN         NaN          NaN            NaN   \n",
      "75%     194.250000         NaN         NaN          NaN            NaN   \n",
      "max     259.000000         NaN         NaN          NaN            NaN   \n",
      "\n",
      "       local_site_name   parameter_name   units_of_measure  arithmetic_mean  \\\n",
      "count              257              260                260       260.000000   \n",
      "unique             253                1                  1              NaN   \n",
      "top            Kapolei  Carbon monoxide  Parts per million              NaN   \n",
      "freq                 2              260                260              NaN   \n",
      "mean               NaN              NaN                NaN         0.403169   \n",
      "std                NaN              NaN                NaN         0.317902   \n",
      "min                NaN              NaN                NaN         0.000000   \n",
      "25%                NaN              NaN                NaN         0.200000   \n",
      "50%                NaN              NaN                NaN         0.276315   \n",
      "75%                NaN              NaN                NaN         0.516009   \n",
      "max                NaN              NaN                NaN         1.921053   \n",
      "\n",
      "               aqi  \n",
      "count   260.000000  \n",
      "unique         NaN  \n",
      "top            NaN  \n",
      "freq           NaN  \n",
      "mean      6.757692  \n",
      "std       7.061707  \n",
      "min       0.000000  \n",
      "25%       2.000000  \n",
      "50%       5.000000  \n",
      "75%       9.000000  \n",
      "max      50.000000  \n",
      "For a more thorough examination of observations by state use values_counts()\n",
      "California              66\n",
      "Arizona                 14\n",
      "Ohio                    12\n",
      "Florida                 12\n",
      "Texas                   10\n",
      "New York                10\n",
      "Pennsylvania            10\n",
      "Michigan                 9\n",
      "Colorado                 9\n",
      "Minnesota                7\n",
      "New Jersey               6\n",
      "Indiana                  5\n",
      "North Carolina           4\n",
      "Massachusetts            4\n",
      "Maryland                 4\n",
      "Oklahoma                 4\n",
      "Virginia                 4\n",
      "Nevada                   4\n",
      "Connecticut              4\n",
      "Kentucky                 3\n",
      "Missouri                 3\n",
      "Wyoming                  3\n",
      "Iowa                     3\n",
      "Hawaii                   3\n",
      "Utah                     3\n",
      "Vermont                  3\n",
      "Illinois                 3\n",
      "New Hampshire            2\n",
      "District Of Columbia     2\n",
      "New Mexico               2\n",
      "Montana                  2\n",
      "Oregon                   2\n",
      "Alaska                   2\n",
      "Georgia                  2\n",
      "Washington               2\n",
      "Idaho                    2\n",
      "Nebraska                 2\n",
      "Rhode Island             2\n",
      "Tennessee                2\n",
      "Maine                    2\n",
      "South Carolina           1\n",
      "Puerto Rico              1\n",
      "Arkansas                 1\n",
      "Kansas                   1\n",
      "Mississippi              1\n",
      "Alabama                  1\n",
      "Louisiana                1\n",
      "Delaware                 1\n",
      "South Dakota             1\n",
      "West Virginia            1\n",
      "North Dakota             1\n",
      "Wisconsin                1\n",
      "Name: state_name, dtype: int64\n",
      "for a more\n"
     ]
    }
   ],
   "source": [
    "# Explore dataframe `aqi`\n",
    "\n",
    "print(\"Use head() to show a sample of data\")\n",
    "print(aqi.head())\n",
    "\n",
    "print(\"Use describe() to summarize AQI\")\n",
    "print(aqi.describe(include='all'))\n",
    "\n",
    "print(\"For a more thorough examination of observations by state use values_counts()\")\n",
    "print(aqi['state_name'].value_counts())\n",
    "\n",
    "print('for a more')"
   ]
  },
  {
   "cell_type": "code",
   "execution_count": 4,
   "id": "22ca75eb",
   "metadata": {
    "id": "c8e42529-af00-4699-96b4-bd0f8989014a"
   },
   "outputs": [],
   "source": [
    "# Hypothesis 1: mean AQI in Los Angeles County is statistically different from the rest of California.\n",
    "\n",
    "# Create dataframes for each sample being compared in the test\n",
    "\n",
    "ca_la = aqi[aqi['county_name']=='Los Angeles']\n",
    "ca_other = aqi[(aqi['state_name']=='California') & (aqi['county_name']!='Los Angeles')]"
   ]
  },
  {
   "cell_type": "code",
   "execution_count": null,
   "id": "e88a7024",
   "metadata": {},
   "outputs": [],
   "source": [
    "# H0 There is no difference in the mean AQI between Los Angeles County and the rest of California.\n",
    "# H1 There is a difference in the mean AQI between Los Angeles County and the rest of California."
   ]
  },
  {
   "cell_type": "code",
   "execution_count": 5,
   "id": "754dde32",
   "metadata": {
    "id": "5ef36549-7ccb-4547-bf04-d23b166c65d4"
   },
   "outputs": [
    {
     "data": {
      "text/plain": [
       "0.05"
      ]
     },
     "execution_count": 5,
     "metadata": {},
     "output_type": "execute_result"
    }
   ],
   "source": [
    "# For this analysis, the significance level is 5%\n",
    "\n",
    "significance_level = 0.05\n",
    "significance_level"
   ]
  },
  {
   "cell_type": "code",
   "execution_count": 6,
   "id": "f248aed3",
   "metadata": {
    "id": "83ef0d80-48ec-4a5a-8acd-0fab137243c3",
    "tags": []
   },
   "outputs": [
    {
     "data": {
      "text/plain": [
       "Ttest_indResult(statistic=2.1107010796372014, pvalue=0.049839056842410995)"
      ]
     },
     "execution_count": 6,
     "metadata": {},
     "output_type": "execute_result"
    }
   ],
   "source": [
    "# Comparing Means between two independant samples. Therefore two-sample t-test.\n",
    "\n",
    "# Compute p-value here\n",
    "\n",
    "stats.ttest_ind(a=ca_la['aqi'], b=ca_other['aqi'], equal_var=False)"
   ]
  },
  {
   "cell_type": "code",
   "execution_count": null,
   "id": "b3236251",
   "metadata": {},
   "outputs": [],
   "source": [
    "# With a p-value (0.049) being less than 0.05 (as significance level is 5%), \n",
    "# reject the null hypothesis in favor of the alternative hypothesis."
   ]
  },
  {
   "cell_type": "code",
   "execution_count": 7,
   "id": "c34551cb",
   "metadata": {
    "id": "f39b7d83-9fbf-4bba-90c2-c99f903badd8"
   },
   "outputs": [],
   "source": [
    "# Hypothesis 2: Does New York have a lower AQI than Ohio?\n",
    "\n",
    "# Create dataframes for each sample being compared in the test\n",
    "\n",
    "ny = aqi[aqi['state_name']=='New York']\n",
    "ohio = aqi[aqi['state_name']=='Ohio']"
   ]
  },
  {
   "cell_type": "code",
   "execution_count": null,
   "id": "4ad7d840",
   "metadata": {},
   "outputs": [],
   "source": [
    "# H0: The mean AQI of New York is greater than or equal to that of Ohio.\n",
    "# H1: The mean AQI of New York is below that of Ohio."
   ]
  },
  {
   "cell_type": "code",
   "execution_count": 8,
   "id": "679d3719",
   "metadata": {
    "id": "e495500f-c3d9-4cf2-ad1d-4687640a01b4",
    "tags": []
   },
   "outputs": [
    {
     "name": "stdout",
     "output_type": "stream",
     "text": [
      "-2.025951038880333\n",
      "0.030446502691934697\n"
     ]
    }
   ],
   "source": [
    "# Compute p-value here\n",
    "\n",
    "tstat, pvalue = stats.ttest_ind(a=ny['aqi'], b=ohio['aqi'], alternative='less', equal_var=False)\n",
    "print(tstat)\n",
    "print(pvalue)"
   ]
  },
  {
   "cell_type": "code",
   "execution_count": null,
   "id": "02f8399e",
   "metadata": {},
   "outputs": [],
   "source": [
    "# With a p-value of (0.03) less than 0.05 (as significance level is 5%) and a t-statistic < 0 (-2.036)\n",
    "# Reject the null hypothesus in favour of the alternative hypothesis"
   ]
  },
  {
   "cell_type": "code",
   "execution_count": 9,
   "id": "f71a62ba",
   "metadata": {
    "id": "559c43b4-ccb3-4a05-91d4-8f4aaee4d8b7"
   },
   "outputs": [],
   "source": [
    "# Hypothesis 3: If a new policy will affect those states with a mean AQI of 10 or greater. \n",
    "# Can we rule out Michigan from being affected by this new policy?\n",
    "\n",
    "# Create dataframes for each sample being compared in the test\n",
    "\n",
    "\n",
    "michigan = aqi[aqi['state_name']=='Michigan']"
   ]
  },
  {
   "cell_type": "code",
   "execution_count": null,
   "id": "dbc12853",
   "metadata": {},
   "outputs": [],
   "source": [
    "# H0: The mean AQI of Michigan is less than or equal to 10.\n",
    "# H1: the mean AQI of Michigan is greater than 10."
   ]
  },
  {
   "cell_type": "code",
   "execution_count": 10,
   "id": "9600abb6",
   "metadata": {
    "id": "8b86c9f5-284a-4ed7-b2d4-2b531e0092f9",
    "tags": []
   },
   "outputs": [
    {
     "name": "stdout",
     "output_type": "stream",
     "text": [
      "-1.7395913343286131\n",
      "0.9399405193140109\n"
     ]
    }
   ],
   "source": [
    "# Compute p-value here\n",
    "\n",
    "\n",
    "tstat, pvalue = stats.ttest_1samp(michigan['aqi'], 10, alternative='greater')\n",
    "print(tstat)\n",
    "print(pvalue)"
   ]
  },
  {
   "cell_type": "code",
   "execution_count": null,
   "id": "7040aec3",
   "metadata": {},
   "outputs": [],
   "source": [
    "# With a p-value (0.940) being greater than 0.05 (as significance level is 5%) and a t-statistic < 0 (-1.74)\n",
    "# fail to reject the null hypothesis"
   ]
  },
  {
   "cell_type": "raw",
   "id": "6dd9e970",
   "metadata": {
    "id": "e2bf2c48-c712-4310-a83e-96a13edc4da1"
   },
   "source": [
    "# Conclusion\n",
    "\n",
    "key takeaways\n",
    "\n",
    "- Results indicated that the AQI in Los Angeles County was in fact different from the rest of California.\n",
    "- Using a 5% significance level, you can conclude that New York has a lower AQI than Ohio based on the results.\n",
    "- Based on the tests, you would fail to reject the null hypothesis, meaning you can't conclude that the mean AQI is greater than 10. Thus, it is unlikely that Michigan would be affected by the new policy.\n",
    "\n",
    "Findings to share with others\n",
    "\n",
    "For each test, you would present the null and alternative hypothesis, then describe your conclusion and the resulting p-value that drove that conclusion. As the setup of t-test's have a few key configurations that dictate how you interpret the result, you would specify the type of test you chose, whether that tail was one-tail or two-tailed, and how you performed the t-test from `stats`."
   ]
  }
 ],
 "metadata": {
  "colab": {
   "collapsed_sections": [
    "b12559f5-bd57-4664-be80-7208ca8818b4",
    "32581125-a9ef-4b17-b8d5-0e1085d4c746"
   ],
   "provenance": []
  },
  "kernelspec": {
   "display_name": "Python 3 (ipykernel)",
   "language": "python",
   "name": "python3"
  },
  "language_info": {
   "codemirror_mode": {
    "name": "ipython",
    "version": 3
   },
   "file_extension": ".py",
   "mimetype": "text/x-python",
   "name": "python",
   "nbconvert_exporter": "python",
   "pygments_lexer": "ipython3",
   "version": "3.11.3"
  }
 },
 "nbformat": 4,
 "nbformat_minor": 5
}
